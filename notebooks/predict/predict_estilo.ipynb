{
 "cells": [
  {
   "cell_type": "markdown",
   "metadata": {},
   "source": [
    "# Predict estilo\n",
    "\n",
    "Predict Estilo when having boca, tipo varideades, zona de producción"
   ]
  },
  {
   "cell_type": "code",
   "execution_count": 1,
   "metadata": {},
   "outputs": [],
   "source": [
    "import pandas as pd\n",
    "from pandasgui import show\n",
    "import matplotlib.pyplot as plt\n",
    "import numpy as np\n",
    "import random"
   ]
  },
  {
   "cell_type": "code",
   "execution_count": 2,
   "metadata": {},
   "outputs": [
    {
     "data": {
      "text/plain": [
       "[PhysicalDevice(name='/physical_device:GPU:0', device_type='GPU')]"
      ]
     },
     "execution_count": 2,
     "metadata": {},
     "output_type": "execute_result"
    }
   ],
   "source": [
    "import tensorflow as tf\n",
    "tf.config.list_physical_devices('GPU')"
   ]
  },
  {
   "cell_type": "code",
   "execution_count": 3,
   "metadata": {},
   "outputs": [],
   "source": [
    "from keras.models import Sequential\n",
    "from keras.layers import Dense"
   ]
  },
  {
   "cell_type": "markdown",
   "metadata": {},
   "source": [
    "## Load the data"
   ]
  },
  {
   "cell_type": "code",
   "execution_count": 17,
   "metadata": {},
   "outputs": [],
   "source": [
    "X_ITEMS_PATH = r\"../EDA/X_pred_estilo.csv\"\n",
    "Y_ITEMS_PATH = r\"../EDA/y_pred_estilo.csv\"\n",
    "\n",
    "X = pd.read_csv(X_ITEMS_PATH)\n",
    "y = pd.read_csv(Y_ITEMS_PATH)"
   ]
  },
  {
   "cell_type": "code",
   "execution_count": 18,
   "metadata": {},
   "outputs": [
    {
     "data": {
      "text/plain": [
       "(240, 71)"
      ]
     },
     "execution_count": 18,
     "metadata": {},
     "output_type": "execute_result"
    }
   ],
   "source": [
    "X.shape"
   ]
  },
  {
   "cell_type": "code",
   "execution_count": 19,
   "metadata": {},
   "outputs": [
    {
     "data": {
      "text/plain": [
       "(240, 30)"
      ]
     },
     "execution_count": 19,
     "metadata": {},
     "output_type": "execute_result"
    }
   ],
   "source": [
    "y.shape"
   ]
  },
  {
   "cell_type": "markdown",
   "metadata": {},
   "source": [
    "## Split the data into train and test"
   ]
  },
  {
   "cell_type": "code",
   "execution_count": 1,
   "metadata": {},
   "outputs": [
    {
     "ename": "NameError",
     "evalue": "name 'X' is not defined",
     "output_type": "error",
     "traceback": [
      "\u001b[1;31m---------------------------------------------------------------------------\u001b[0m",
      "\u001b[1;31mNameError\u001b[0m                                 Traceback (most recent call last)",
      "\u001b[1;32mc:\\Users\\garciagr\\Nextcloud\\2022TFM - Vins2022\\Predict\\predict_estilo.ipynb Cell 10\u001b[0m in \u001b[0;36m<cell line: 3>\u001b[1;34m()\u001b[0m\n\u001b[0;32m      <a href='vscode-notebook-cell:/c%3A/Users/garciagr/Nextcloud/2022TFM%20-%20Vins2022/Predict/predict_estilo.ipynb#X12sZmlsZQ%3D%3D?line=0'>1</a>\u001b[0m \u001b[39mfrom\u001b[39;00m \u001b[39msklearn\u001b[39;00m\u001b[39m.\u001b[39;00m\u001b[39mmodel_selection\u001b[39;00m \u001b[39mimport\u001b[39;00m train_test_split\n\u001b[1;32m----> <a href='vscode-notebook-cell:/c%3A/Users/garciagr/Nextcloud/2022TFM%20-%20Vins2022/Predict/predict_estilo.ipynb#X12sZmlsZQ%3D%3D?line=2'>3</a>\u001b[0m X_train, X_test, y_train, y_test \u001b[39m=\u001b[39m train_test_split(X, y, test_size\u001b[39m=\u001b[39m\u001b[39m0.2\u001b[39m, random_state\u001b[39m=\u001b[39m\u001b[39m42\u001b[39m)\n\u001b[0;32m      <a href='vscode-notebook-cell:/c%3A/Users/garciagr/Nextcloud/2022TFM%20-%20Vins2022/Predict/predict_estilo.ipynb#X12sZmlsZQ%3D%3D?line=4'>5</a>\u001b[0m \u001b[39mprint\u001b[39m(\u001b[39m\"\u001b[39m\u001b[39mX\u001b[39m\u001b[39m\"\u001b[39m)\n\u001b[0;32m      <a href='vscode-notebook-cell:/c%3A/Users/garciagr/Nextcloud/2022TFM%20-%20Vins2022/Predict/predict_estilo.ipynb#X12sZmlsZQ%3D%3D?line=5'>6</a>\u001b[0m \u001b[39mprint\u001b[39m(X_train\u001b[39m.\u001b[39mshape)\n",
      "\u001b[1;31mNameError\u001b[0m: name 'X' is not defined"
     ]
    }
   ],
   "source": [
    "from sklearn.model_selection import train_test_split\n",
    "\n",
    "X_train, X_test, y_train, y_test = train_test_split(X, y, test_size=0.2, random_state=42)\n",
    "\n",
    "print(\"X\")\n",
    "print(X_train.shape)\n",
    "print(X_test.shape)\n",
    "\n",
    "print(\"Y\")\n",
    "print(y_train.shape)\n",
    "print(y_test.shape)"
   ]
  },
  {
   "cell_type": "markdown",
   "metadata": {},
   "source": [
    "## Create the NN architecture"
   ]
  },
  {
   "cell_type": "code",
   "execution_count": null,
   "metadata": {},
   "outputs": [
    {
     "name": "stdout",
     "output_type": "stream",
     "text": [
      "Model: \"sequential\"\n",
      "_________________________________________________________________\n",
      "Layer (type)                 Output Shape              Param #   \n",
      "=================================================================\n",
      "dense (Dense)                (None, 10)                720       \n",
      "_________________________________________________________________\n",
      "dense_1 (Dense)              (None, 10)                110       \n",
      "_________________________________________________________________\n",
      "dense_2 (Dense)              (None, 21)                231       \n",
      "=================================================================\n",
      "Total params: 1,061\n",
      "Trainable params: 1,061\n",
      "Non-trainable params: 0\n",
      "_________________________________________________________________\n"
     ]
    }
   ],
   "source": [
    "model = Sequential()\n",
    "model.add(Dense(10, input_dim=71, activation='relu'))\n",
    "model.add(Dense(10, activation='relu'))\n",
    "model.add(Dense(21, activation='sigmoid'))\n",
    "model.summary()"
   ]
  },
  {
   "cell_type": "code",
   "execution_count": 9,
   "metadata": {},
   "outputs": [],
   "source": [
    "model.compile(loss='binary_crossentropy', optimizer='adam',metrics=['categorical_accuracy'])"
   ]
  },
  {
   "cell_type": "code",
   "execution_count": 10,
   "metadata": {},
   "outputs": [
    {
     "name": "stdout",
     "output_type": "stream",
     "text": [
      "Epoch 1/60\n",
      "5/5 [==============================] - 1s 37ms/step - loss: 0.6927 - categorical_accuracy: 0.0000e+00 - val_loss: 0.6840 - val_categorical_accuracy: 0.0000e+00\n",
      "Epoch 2/60\n",
      "5/5 [==============================] - 0s 9ms/step - loss: 0.6863 - categorical_accuracy: 0.0000e+00 - val_loss: 0.6778 - val_categorical_accuracy: 0.0000e+00\n",
      "Epoch 3/60\n",
      "5/5 [==============================] - 0s 14ms/step - loss: 0.6800 - categorical_accuracy: 0.0000e+00 - val_loss: 0.6712 - val_categorical_accuracy: 0.0588\n",
      "Epoch 4/60\n",
      "5/5 [==============================] - 0s 10ms/step - loss: 0.6734 - categorical_accuracy: 0.0203 - val_loss: 0.6639 - val_categorical_accuracy: 0.0588\n",
      "Epoch 5/60\n",
      "5/5 [==============================] - 0s 10ms/step - loss: 0.6664 - categorical_accuracy: 0.0270 - val_loss: 0.6554 - val_categorical_accuracy: 0.0588\n",
      "Epoch 6/60\n",
      "5/5 [==============================] - 0s 9ms/step - loss: 0.6584 - categorical_accuracy: 0.0473 - val_loss: 0.6460 - val_categorical_accuracy: 0.1176\n",
      "Epoch 7/60\n",
      "5/5 [==============================] - 0s 10ms/step - loss: 0.6497 - categorical_accuracy: 0.0743 - val_loss: 0.6352 - val_categorical_accuracy: 0.1176\n",
      "Epoch 8/60\n",
      "5/5 [==============================] - 0s 10ms/step - loss: 0.6392 - categorical_accuracy: 0.1216 - val_loss: 0.6228 - val_categorical_accuracy: 0.1765\n",
      "Epoch 9/60\n",
      "5/5 [==============================] - 0s 11ms/step - loss: 0.6275 - categorical_accuracy: 0.2027 - val_loss: 0.6089 - val_categorical_accuracy: 0.2941\n",
      "Epoch 10/60\n",
      "5/5 [==============================] - 0s 10ms/step - loss: 0.6139 - categorical_accuracy: 0.2905 - val_loss: 0.5929 - val_categorical_accuracy: 0.4706\n",
      "Epoch 11/60\n",
      "5/5 [==============================] - 0s 10ms/step - loss: 0.5985 - categorical_accuracy: 0.3919 - val_loss: 0.5750 - val_categorical_accuracy: 0.5294\n",
      "Epoch 12/60\n",
      "5/5 [==============================] - 0s 9ms/step - loss: 0.5814 - categorical_accuracy: 0.4595 - val_loss: 0.5554 - val_categorical_accuracy: 0.5294\n",
      "Epoch 13/60\n",
      "5/5 [==============================] - 0s 10ms/step - loss: 0.5622 - categorical_accuracy: 0.5203 - val_loss: 0.5344 - val_categorical_accuracy: 0.7647\n",
      "Epoch 14/60\n",
      "5/5 [==============================] - 0s 10ms/step - loss: 0.5415 - categorical_accuracy: 0.5608 - val_loss: 0.5116 - val_categorical_accuracy: 0.8235\n",
      "Epoch 15/60\n",
      "5/5 [==============================] - 0s 10ms/step - loss: 0.5197 - categorical_accuracy: 0.5878 - val_loss: 0.4873 - val_categorical_accuracy: 0.8824\n",
      "Epoch 16/60\n",
      "5/5 [==============================] - 0s 10ms/step - loss: 0.4965 - categorical_accuracy: 0.6081 - val_loss: 0.4628 - val_categorical_accuracy: 0.8824\n",
      "Epoch 17/60\n",
      "5/5 [==============================] - 0s 10ms/step - loss: 0.4735 - categorical_accuracy: 0.6284 - val_loss: 0.4390 - val_categorical_accuracy: 0.8824\n",
      "Epoch 18/60\n",
      "5/5 [==============================] - 0s 10ms/step - loss: 0.4514 - categorical_accuracy: 0.6351 - val_loss: 0.4160 - val_categorical_accuracy: 0.8824\n",
      "Epoch 19/60\n",
      "5/5 [==============================] - 0s 10ms/step - loss: 0.4299 - categorical_accuracy: 0.6351 - val_loss: 0.3946 - val_categorical_accuracy: 0.8824\n",
      "Epoch 20/60\n",
      "5/5 [==============================] - 0s 9ms/step - loss: 0.4107 - categorical_accuracy: 0.6351 - val_loss: 0.3756 - val_categorical_accuracy: 0.8824\n",
      "Epoch 21/60\n",
      "5/5 [==============================] - 0s 10ms/step - loss: 0.3933 - categorical_accuracy: 0.6351 - val_loss: 0.3596 - val_categorical_accuracy: 0.8824\n",
      "Epoch 22/60\n",
      "5/5 [==============================] - 0s 10ms/step - loss: 0.3784 - categorical_accuracy: 0.6351 - val_loss: 0.3470 - val_categorical_accuracy: 0.8824\n",
      "Epoch 23/60\n",
      "5/5 [==============================] - 0s 9ms/step - loss: 0.3657 - categorical_accuracy: 0.6351 - val_loss: 0.3373 - val_categorical_accuracy: 0.8824\n",
      "Epoch 24/60\n",
      "5/5 [==============================] - 0s 9ms/step - loss: 0.3552 - categorical_accuracy: 0.6351 - val_loss: 0.3301 - val_categorical_accuracy: 0.8824\n",
      "Epoch 25/60\n",
      "5/5 [==============================] - 0s 9ms/step - loss: 0.3466 - categorical_accuracy: 0.6351 - val_loss: 0.3249 - val_categorical_accuracy: 0.8824\n",
      "Epoch 26/60\n",
      "5/5 [==============================] - 0s 10ms/step - loss: 0.3393 - categorical_accuracy: 0.6351 - val_loss: 0.3212 - val_categorical_accuracy: 0.8824\n",
      "Epoch 27/60\n",
      "5/5 [==============================] - 0s 9ms/step - loss: 0.3331 - categorical_accuracy: 0.6351 - val_loss: 0.3187 - val_categorical_accuracy: 0.8824\n",
      "Epoch 28/60\n",
      "5/5 [==============================] - 0s 9ms/step - loss: 0.3280 - categorical_accuracy: 0.6351 - val_loss: 0.3166 - val_categorical_accuracy: 0.8824\n",
      "Epoch 29/60\n",
      "5/5 [==============================] - 0s 10ms/step - loss: 0.3236 - categorical_accuracy: 0.6351 - val_loss: 0.3151 - val_categorical_accuracy: 0.8824\n",
      "Epoch 30/60\n",
      "5/5 [==============================] - 0s 10ms/step - loss: 0.3198 - categorical_accuracy: 0.6351 - val_loss: 0.3139 - val_categorical_accuracy: 0.8824\n",
      "Epoch 31/60\n",
      "5/5 [==============================] - 0s 10ms/step - loss: 0.3163 - categorical_accuracy: 0.6351 - val_loss: 0.3130 - val_categorical_accuracy: 0.8824\n",
      "Epoch 32/60\n",
      "5/5 [==============================] - 0s 8ms/step - loss: 0.3135 - categorical_accuracy: 0.6351 - val_loss: 0.3127 - val_categorical_accuracy: 0.8824\n",
      "Epoch 33/60\n",
      "5/5 [==============================] - 0s 9ms/step - loss: 0.3106 - categorical_accuracy: 0.6351 - val_loss: 0.3118 - val_categorical_accuracy: 0.8824\n",
      "Epoch 34/60\n",
      "5/5 [==============================] - 0s 9ms/step - loss: 0.3083 - categorical_accuracy: 0.6351 - val_loss: 0.3108 - val_categorical_accuracy: 0.8824\n",
      "Epoch 35/60\n",
      "5/5 [==============================] - 0s 10ms/step - loss: 0.3060 - categorical_accuracy: 0.6351 - val_loss: 0.3102 - val_categorical_accuracy: 0.8824\n",
      "Epoch 36/60\n",
      "5/5 [==============================] - 0s 10ms/step - loss: 0.3040 - categorical_accuracy: 0.6351 - val_loss: 0.3097 - val_categorical_accuracy: 0.8824\n",
      "Epoch 37/60\n",
      "5/5 [==============================] - 0s 9ms/step - loss: 0.3021 - categorical_accuracy: 0.6351 - val_loss: 0.3091 - val_categorical_accuracy: 0.8824\n",
      "Epoch 38/60\n",
      "5/5 [==============================] - 0s 10ms/step - loss: 0.3004 - categorical_accuracy: 0.6351 - val_loss: 0.3086 - val_categorical_accuracy: 0.8824\n",
      "Epoch 39/60\n",
      "5/5 [==============================] - 0s 9ms/step - loss: 0.2987 - categorical_accuracy: 0.6351 - val_loss: 0.3080 - val_categorical_accuracy: 0.8824\n",
      "Epoch 40/60\n",
      "5/5 [==============================] - 0s 9ms/step - loss: 0.2971 - categorical_accuracy: 0.6351 - val_loss: 0.3073 - val_categorical_accuracy: 0.8824\n",
      "Epoch 41/60\n",
      "5/5 [==============================] - 0s 10ms/step - loss: 0.2957 - categorical_accuracy: 0.6351 - val_loss: 0.3068 - val_categorical_accuracy: 0.8824\n",
      "Epoch 42/60\n",
      "5/5 [==============================] - 0s 10ms/step - loss: 0.2942 - categorical_accuracy: 0.6351 - val_loss: 0.3060 - val_categorical_accuracy: 0.8824\n",
      "Epoch 43/60\n",
      "5/5 [==============================] - 0s 9ms/step - loss: 0.2928 - categorical_accuracy: 0.6351 - val_loss: 0.3055 - val_categorical_accuracy: 0.8824\n",
      "Epoch 44/60\n",
      "5/5 [==============================] - 0s 9ms/step - loss: 0.2914 - categorical_accuracy: 0.6351 - val_loss: 0.3051 - val_categorical_accuracy: 0.8824\n",
      "Epoch 45/60\n",
      "5/5 [==============================] - 0s 9ms/step - loss: 0.2900 - categorical_accuracy: 0.6351 - val_loss: 0.3047 - val_categorical_accuracy: 0.8824\n",
      "Epoch 46/60\n",
      "5/5 [==============================] - 0s 9ms/step - loss: 0.2887 - categorical_accuracy: 0.6351 - val_loss: 0.3044 - val_categorical_accuracy: 0.8824\n",
      "Epoch 47/60\n",
      "5/5 [==============================] - 0s 10ms/step - loss: 0.2874 - categorical_accuracy: 0.6419 - val_loss: 0.3038 - val_categorical_accuracy: 0.8824\n",
      "Epoch 48/60\n",
      "5/5 [==============================] - 0s 10ms/step - loss: 0.2861 - categorical_accuracy: 0.6419 - val_loss: 0.3035 - val_categorical_accuracy: 0.8824\n",
      "Epoch 49/60\n",
      "5/5 [==============================] - 0s 9ms/step - loss: 0.2849 - categorical_accuracy: 0.6419 - val_loss: 0.3032 - val_categorical_accuracy: 0.8824\n",
      "Epoch 50/60\n",
      "5/5 [==============================] - 0s 10ms/step - loss: 0.2837 - categorical_accuracy: 0.6486 - val_loss: 0.3031 - val_categorical_accuracy: 0.8824\n",
      "Epoch 51/60\n",
      "5/5 [==============================] - 0s 9ms/step - loss: 0.2825 - categorical_accuracy: 0.6486 - val_loss: 0.3027 - val_categorical_accuracy: 0.8824\n",
      "Epoch 52/60\n",
      "5/5 [==============================] - 0s 10ms/step - loss: 0.2813 - categorical_accuracy: 0.6486 - val_loss: 0.3018 - val_categorical_accuracy: 0.8824\n",
      "Epoch 53/60\n",
      "5/5 [==============================] - 0s 11ms/step - loss: 0.2800 - categorical_accuracy: 0.6486 - val_loss: 0.3012 - val_categorical_accuracy: 0.8824\n",
      "Epoch 54/60\n",
      "5/5 [==============================] - 0s 9ms/step - loss: 0.2789 - categorical_accuracy: 0.6486 - val_loss: 0.3005 - val_categorical_accuracy: 0.8824\n",
      "Epoch 55/60\n",
      "5/5 [==============================] - 0s 9ms/step - loss: 0.2776 - categorical_accuracy: 0.6486 - val_loss: 0.3003 - val_categorical_accuracy: 0.8824\n",
      "Epoch 56/60\n",
      "5/5 [==============================] - 0s 9ms/step - loss: 0.2765 - categorical_accuracy: 0.6554 - val_loss: 0.2999 - val_categorical_accuracy: 0.8824\n",
      "Epoch 57/60\n",
      "5/5 [==============================] - 0s 9ms/step - loss: 0.2752 - categorical_accuracy: 0.6554 - val_loss: 0.2996 - val_categorical_accuracy: 0.8824\n",
      "Epoch 58/60\n",
      "5/5 [==============================] - 0s 9ms/step - loss: 0.2740 - categorical_accuracy: 0.6554 - val_loss: 0.2995 - val_categorical_accuracy: 0.8824\n",
      "Epoch 59/60\n",
      "5/5 [==============================] - 0s 10ms/step - loss: 0.2728 - categorical_accuracy: 0.6554 - val_loss: 0.2989 - val_categorical_accuracy: 0.8824\n",
      "Epoch 60/60\n",
      "5/5 [==============================] - 0s 9ms/step - loss: 0.2715 - categorical_accuracy: 0.6554 - val_loss: 0.2986 - val_categorical_accuracy: 0.8824\n"
     ]
    }
   ],
   "source": [
    "history = model.fit(X_train,y_train, epochs=60,validation_split=.1)"
   ]
  },
  {
   "cell_type": "code",
   "execution_count": 11,
   "metadata": {},
   "outputs": [
    {
     "data": {
      "image/png": "[encoded data removed]",
      "text/plain": [
       "<Figure size 864x288 with 1 Axes>"
      ]
     },
     "metadata": {
      "needs_background": "light"
     },
     "output_type": "display_data"
    }
   ],
   "source": [
    "plt.figure(figsize=(12,4))\n",
    "plt.plot(history.history['categorical_accuracy'])\n",
    "plt.plot(history.history['val_categorical_accuracy'])\n",
    "plt.title('model accuracy')\n",
    "plt.ylabel('accuracy')\n",
    "plt.xlabel('epoch')\n",
    "plt.legend(['train', 'validation'], loc='upper left',bbox_to_anchor=(1, 1))\n",
    "plt.grid(alpha=.5)\n",
    "plt.show()"
   ]
  },
  {
   "cell_type": "code",
   "execution_count": 12,
   "metadata": {},
   "outputs": [
    {
     "data": {
      "image/png": "[encoded data removed]",
      "text/plain": [
       "<Figure size 864x288 with 1 Axes>"
      ]
     },
     "metadata": {
      "needs_background": "light"
     },
     "output_type": "display_data"
    }
   ],
   "source": [
    "plt.figure(figsize=(12,4))\n",
    "plt.plot(history.history['loss'])\n",
    "plt.plot(history.history['val_loss'])\n",
    "plt.title('model loss')\n",
    "plt.ylabel('accuracy')\n",
    "plt.xlabel('epoch')\n",
    "plt.legend(['train', 'validation'], loc='upper left',bbox_to_anchor=(1, 1))\n",
    "plt.grid(alpha=.5)\n",
    "plt.show()"
   ]
  },
  {
   "cell_type": "code",
   "execution_count": 13,
   "metadata": {},
   "outputs": [
    {
     "name": "stdout",
     "output_type": "stream",
     "text": [
      "2/2 [==============================] - 0s 4ms/step - loss: 0.2905 - categorical_accuracy: 0.6429\n"
     ]
    },
    {
     "data": {
      "text/plain": [
       "[0.2905213534832001, 0.6428571343421936]"
      ]
     },
     "execution_count": 13,
     "metadata": {},
     "output_type": "execute_result"
    }
   ],
   "source": [
    "model.evaluate(X_test,y_test)"
   ]
  },
  {
   "cell_type": "markdown",
   "metadata": {},
   "source": [
    "## NN Inference"
   ]
  },
  {
   "cell_type": "code",
   "execution_count": 14,
   "metadata": {},
   "outputs": [],
   "source": [
    "x_cols = X_train.columns.values\n",
    "y_cols = y_train.columns.values\n",
    "\n",
    "def translate_array(input_array, dict, output=False,acceptance=.5):\n",
    "    if output:\n",
    "        input_array = input_array > acceptance \n",
    "    indices = np.flatnonzero(input_array)\n",
    "    final_array = []\n",
    "    for index in indices:\n",
    "        final_array.append(dict[index])\n",
    "    return final_array\n",
    "\n"
   ]
  },
  {
   "cell_type": "code",
   "execution_count": 15,
   "metadata": {},
   "outputs": [],
   "source": [
    "def show_results(model,X,y,samples=4):\n",
    "\n",
    "    for _ in range(samples):\n",
    "\n",
    "        index = random.randint(0,X.shape[0])\n",
    "        print(\"For a wine that is:\")\n",
    "        print(translate_array(X.values[index].reshape((1,-1)),x_cols))\n",
    "        print(\"and we should get that the style is:\")\n",
    "        print(translate_array(y.values[index],y_cols,output=True))\n",
    "        print(\"Using the model we get:\")\n",
    "        print(translate_array(model.predict(X.values[index].reshape((1,-1))),y_cols,output=True))\n",
    "        print(\"-----------\")"
   ]
  },
  {
   "cell_type": "code",
   "execution_count": 16,
   "metadata": {},
   "outputs": [
    {
     "name": "stdout",
     "output_type": "stream",
     "text": [
      "For a wine that is:\n",
      "['buena acidez', 'fruta madura', 'taninos maduros', 'tinto', 'garnacha', 'cariñena', 'merlot', 'fruta madura.1', 'hierbas secas', 'fruta negra', 'roble cremoso', 'terroso', 'cereza intenso']\n",
      "and we should get that the style is:\n",
      "['frutal', 'herbal']\n",
      "Using the model we get:\n",
      "['sabroso']\n",
      "-----------\n",
      "For a wine that is:\n",
      "['sabroso', 'buena acidez', 'fruta madura', 'tinto', 'garnacha', 'cariñena', 'fruta madura.1', 'fruta roja', 'hierbas silvestres', 'cereza brillante']\n",
      "and we should get that the style is:\n",
      "['sabroso', 'herbal', 'sencillo']\n",
      "Using the model we get:\n",
      "['sabroso']\n",
      "-----------\n",
      "For a wine that is:\n",
      "['sabroso', 'buena acidez', 'fruta madura', 'burbuja fina', 'espumoso', 'xarel.lo', 'chardonnay', 'fruta madura.1', 'hierbas de tocador', 'frutos secos', 'con carácter', 'dorado brillante']\n",
      "and we should get that the style is:\n",
      "['sabroso', 'frutal']\n",
      "Using the model we get:\n",
      "['sabroso']\n",
      "-----------\n",
      "For a wine that is:\n",
      "['sabroso', 'buena acidez', 'burbuja fina', 'espumoso', 'xarel.lo', 'chardonnay', 'lías finas', 'hierbas de tocador', 'floral', 'expresivo', 'pajizo brillante']\n",
      "and we should get that the style is:\n",
      "['sabroso', 'frutal', 'herbal', 'floral']\n",
      "Using the model we get:\n",
      "['sabroso']\n",
      "-----------\n",
      "For a wine that is:\n",
      "['sabroso', 'buena acidez', 'fruta madura', 'burbuja fina', 'espumoso', 'xarel.lo', 'chardonnay', 'fruta madura.1', 'hierbas de tocador', 'frutos secos', 'con carácter', 'dorado brillante']\n",
      "and we should get that the style is:\n",
      "['sabroso', 'frutal']\n",
      "Using the model we get:\n",
      "['sabroso']\n",
      "-----------\n",
      "For a wine that is:\n",
      "['sabroso', 'frutoso', 'fruta madura', 'blanco', 'macabeo', 'garnacha blanca', 'fruta madura.1', 'flores secas']\n",
      "and we should get that the style is:\n",
      "['sabroso', 'aromático']\n",
      "Using the model we get:\n",
      "['sabroso']\n",
      "-----------\n",
      "For a wine that is:\n",
      "['sabroso', 'largo', 'estructurado', 'tinto', 'cariñena', 'especias dulces', 'cereza brillante']\n",
      "and we should get that the style is:\n",
      "['sabroso']\n",
      "Using the model we get:\n",
      "['sabroso']\n",
      "-----------\n",
      "For a wine that is:\n",
      "['sabroso', 'especiado', 'espumoso', 'xarel.lo', 'especiado.1', 'amarillo brillante']\n",
      "and we should get that the style is:\n",
      "['sabroso', 'herbal', 'especiado', 'ligera oxidación']\n",
      "Using the model we get:\n",
      "['sabroso']\n",
      "-----------\n",
      "For a wine that is:\n",
      "['blanco', 'floral', 'cítricos', 'fruta escarchada', 'fruta de hueso', 'amarillo brillante']\n",
      "and we should get that the style is:\n",
      "['frutal', 'maduro', 'floral', 'cítrico']\n",
      "Using the model we get:\n",
      "[]\n",
      "-----------\n",
      "For a wine that is:\n",
      "['sabroso', 'buena acidez', 'burbuja fina', 'espumoso', 'xarel.lo', 'chardonnay', 'lías finas', 'hierbas de tocador', 'floral', 'expresivo', 'pajizo brillante']\n",
      "and we should get that the style is:\n",
      "['sabroso', 'frutal', 'herbal', 'floral']\n",
      "Using the model we get:\n",
      "['sabroso']\n",
      "-----------\n"
     ]
    }
   ],
   "source": [
    "show_results(model,X_test,y_test,samples=10)"
   ]
  },
  {
   "cell_type": "markdown",
   "metadata": {},
   "source": [
    "## Catboost"
   ]
  },
  {
   "cell_type": "code",
   "execution_count": 24,
   "metadata": {},
   "outputs": [],
   "source": [
    "from catboost import CatBoostClassifier"
   ]
  },
  {
   "cell_type": "code",
   "execution_count": null,
   "metadata": {},
   "outputs": [],
   "source": []
  }
 ],
 "metadata": {
  "interpreter": {
   "hash": "7415d6c248b17791212c15a93b9f4aced8f47fadf2a126ec295c52771ff06fc9"
  },
  "kernelspec": {
   "display_name": "ml",
   "language": "python",
   "name": "ml"
  },
  "language_info": {
   "codemirror_mode": {
    "name": "ipython",
    "version": 3
   },
   "file_extension": ".py",
   "mimetype": "text/x-python",
   "name": "python",
   "nbconvert_exporter": "python",
   "pygments_lexer": "ipython3",
   "version": "3.9.12"
  },
  "orig_nbformat": 4
 },
 "nbformat": 4,
 "nbformat_minor": 2
}
